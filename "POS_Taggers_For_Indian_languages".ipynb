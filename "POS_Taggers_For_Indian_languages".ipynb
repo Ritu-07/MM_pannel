{
  "nbformat": 4,
  "nbformat_minor": 0,
  "metadata": {
    "colab": {
      "provenance": [],
      "authorship_tag": "ABX9TyNu1oicg6J3dts/h+mTfGuj",
      "include_colab_link": true
    },
    "kernelspec": {
      "name": "python3",
      "display_name": "Python 3"
    },
    "language_info": {
      "name": "python"
    }
  },
  "cells": [
    {
      "cell_type": "markdown",
      "metadata": {
        "id": "view-in-github",
        "colab_type": "text"
      },
      "source": [
        "<a href=\"https://colab.research.google.com/github/Ritu-07/MM_pannel/blob/main/%22POS_Taggers_For_Indian_languages%22.ipynb\" target=\"_parent\"><img src=\"https://colab.research.google.com/assets/colab-badge.svg\" alt=\"Open In Colab\"/></a>"
      ]
    },
    {
      "cell_type": "markdown",
      "source": [
        "**\"POS Taggers For Indian languages\"**"
      ],
      "metadata": {
        "id": "kOcaYvyIWLx7"
      }
    },
    {
      "cell_type": "markdown",
      "source": [
        "Import Nltk"
      ],
      "metadata": {
        "id": "uBSC78h0aZWl"
      }
    },
    {
      "cell_type": "code",
      "source": [
        "import nltk"
      ],
      "metadata": {
        "id": "4t9uPtEqWQDi"
      },
      "execution_count": 6,
      "outputs": []
    },
    {
      "cell_type": "code",
      "source": [
        "from nltk.tokenize import word_tokenize"
      ],
      "metadata": {
        "id": "OAESWfEYMUmP"
      },
      "execution_count": 5,
      "outputs": []
    },
    {
      "cell_type": "code",
      "source": [
        "from nltk.corpus import indian"
      ],
      "metadata": {
        "id": "pPhqB_rFNIky"
      },
      "execution_count": 7,
      "outputs": []
    },
    {
      "cell_type": "markdown",
      "source": [
        "**Load the Indian Language POS Tagged Corpus (Hindi)**"
      ],
      "metadata": {
        "id": "6RcrlZGJWbeT"
      }
    },
    {
      "cell_type": "code",
      "source": [
        "nltk.download('indian')"
      ],
      "metadata": {
        "colab": {
          "base_uri": "https://localhost:8080/"
        },
        "id": "devph1_QNyka",
        "outputId": "18fa3d79-eebb-44ee-d3ea-c412f312ecb3"
      },
      "execution_count": 8,
      "outputs": [
        {
          "output_type": "stream",
          "name": "stderr",
          "text": [
            "[nltk_data] Downloading package indian to /root/nltk_data...\n",
            "[nltk_data]   Unzipping corpora/indian.zip.\n"
          ]
        },
        {
          "output_type": "execute_result",
          "data": {
            "text/plain": [
              "True"
            ]
          },
          "metadata": {},
          "execution_count": 8
        }
      ]
    },
    {
      "cell_type": "code",
      "source": [
        " nltk.download('punkt')"
      ],
      "metadata": {
        "colab": {
          "base_uri": "https://localhost:8080/"
        },
        "id": "A3NJeCwdPyeZ",
        "outputId": "9be50906-8836-4c5e-b39a-6bbade314af3"
      },
      "execution_count": 9,
      "outputs": [
        {
          "output_type": "stream",
          "name": "stderr",
          "text": [
            "[nltk_data] Downloading package punkt to /root/nltk_data...\n",
            "[nltk_data]   Unzipping tokenizers/punkt.zip.\n"
          ]
        },
        {
          "output_type": "execute_result",
          "data": {
            "text/plain": [
              "True"
            ]
          },
          "metadata": {},
          "execution_count": 9
        }
      ]
    },
    {
      "cell_type": "markdown",
      "source": [
        "POS Tagger for Marathi(मराठी)"
      ],
      "metadata": {
        "id": "g8ZU3PT_Wt9u"
      }
    },
    {
      "cell_type": "code",
      "source": [
        "text=\"मी बरी आहे.\""
      ],
      "metadata": {
        "id": "1ci1c7IsTvB0"
      },
      "execution_count": 10,
      "outputs": []
    },
    {
      "cell_type": "code",
      "source": [
        "result=word_tokenize(text)"
      ],
      "metadata": {
        "id": "GXMKUTMzMbx8"
      },
      "execution_count": 11,
      "outputs": []
    },
    {
      "cell_type": "code",
      "source": [
        "result"
      ],
      "metadata": {
        "colab": {
          "base_uri": "https://localhost:8080/"
        },
        "id": "c2PCQfKWMhU8",
        "outputId": "66e26d97-26d7-414a-e24e-f9714d992e53"
      },
      "execution_count": 12,
      "outputs": [
        {
          "output_type": "execute_result",
          "data": {
            "text/plain": [
              "['मी', 'बरी', 'आहे', '.']"
            ]
          },
          "metadata": {},
          "execution_count": 12
        }
      ]
    },
    {
      "cell_type": "markdown",
      "source": [
        "POS tag is the practice of marking up the words in text format for a specific segment of a speech context is known as POS Tagging (Parts of Speech Tagging)."
      ],
      "metadata": {
        "id": "OqLVVLeJYXyZ"
      }
    },
    {
      "cell_type": "code",
      "source": [
        "nltk.download('averaged_perceptron_tagger')"
      ],
      "metadata": {
        "colab": {
          "base_uri": "https://localhost:8080/"
        },
        "id": "Ahy89VmaQq2v",
        "outputId": "194a1f3b-82c9-4789-a5fd-8c4744dc92b7"
      },
      "execution_count": 13,
      "outputs": [
        {
          "output_type": "stream",
          "name": "stderr",
          "text": [
            "[nltk_data] Downloading package averaged_perceptron_tagger to\n",
            "[nltk_data]     /root/nltk_data...\n",
            "[nltk_data]   Unzipping taggers/averaged_perceptron_tagger.zip.\n"
          ]
        },
        {
          "output_type": "execute_result",
          "data": {
            "text/plain": [
              "True"
            ]
          },
          "metadata": {},
          "execution_count": 13
        }
      ]
    },
    {
      "cell_type": "code",
      "source": [
        "final=nltk.pos_tag(result)"
      ],
      "metadata": {
        "id": "sQRctJwFPLfw"
      },
      "execution_count": 14,
      "outputs": []
    },
    {
      "cell_type": "code",
      "source": [
        "final"
      ],
      "metadata": {
        "colab": {
          "base_uri": "https://localhost:8080/"
        },
        "id": "iRPGfMiOQil1",
        "outputId": "fcceb8b2-6d77-4e24-efd8-eea4f86da3ec"
      },
      "execution_count": 15,
      "outputs": [
        {
          "output_type": "execute_result",
          "data": {
            "text/plain": [
              "[('मी', 'JJ'), ('बरी', 'NNP'), ('आहे', 'NNP'), ('.', '.')]"
            ]
          },
          "metadata": {},
          "execution_count": 15
        }
      ]
    },
    {
      "cell_type": "markdown",
      "source": [
        "\n",
        "POS Tagging in NLTK is a process to mark up the words in text format for a particular part of a speech based on its definition and context."
      ],
      "metadata": {
        "id": "E2keN9EsXYLP"
      }
    },
    {
      "cell_type": "code",
      "source": [
        "nltk.download('tagsets')"
      ],
      "metadata": {
        "colab": {
          "base_uri": "https://localhost:8080/"
        },
        "id": "KoXCqKmyReu_",
        "outputId": "793ec023-8d1b-498e-c7f4-1ed410446811"
      },
      "execution_count": 16,
      "outputs": [
        {
          "output_type": "stream",
          "name": "stderr",
          "text": [
            "[nltk_data] Downloading package tagsets to /root/nltk_data...\n",
            "[nltk_data]   Unzipping help/tagsets.zip.\n"
          ]
        },
        {
          "output_type": "execute_result",
          "data": {
            "text/plain": [
              "True"
            ]
          },
          "metadata": {},
          "execution_count": 16
        }
      ]
    },
    {
      "cell_type": "code",
      "source": [
        "nltk.help.upenn_tagset('JJ')"
      ],
      "metadata": {
        "colab": {
          "base_uri": "https://localhost:8080/"
        },
        "id": "dP5l9-iPQ16M",
        "outputId": "d3a7ea14-1190-4b2b-c563-e3530bef712a"
      },
      "execution_count": 17,
      "outputs": [
        {
          "output_type": "stream",
          "name": "stdout",
          "text": [
            "JJ: adjective or numeral, ordinal\n",
            "    third ill-mannered pre-war regrettable oiled calamitous first separable\n",
            "    ectoplasmic battery-powered participatory fourth still-to-be-named\n",
            "    multilingual multi-disciplinary ...\n"
          ]
        }
      ]
    },
    {
      "cell_type": "code",
      "source": [
        "nltk.help.upenn_tagset('NNP')"
      ],
      "metadata": {
        "colab": {
          "base_uri": "https://localhost:8080/"
        },
        "id": "bAD0gfY8RSi9",
        "outputId": "4743ec33-d8d1-466c-e209-86ef2dbe3e84"
      },
      "execution_count": 18,
      "outputs": [
        {
          "output_type": "stream",
          "name": "stdout",
          "text": [
            "NNP: noun, proper, singular\n",
            "    Motown Venneboerger Czestochwa Ranzer Conchita Trumplane Christos\n",
            "    Oceanside Escobar Kreisler Sawyer Cougar Yvette Ervin ODI Darryl CTCA\n",
            "    Shannon A.K.C. Meltex Liverpool ...\n"
          ]
        }
      ]
    },
    {
      "cell_type": "code",
      "source": [
        "for i in range(0,len(final)):\n",
        "  if(final[i][1]=='NNP'):\n",
        "    print(final[i][0])"
      ],
      "metadata": {
        "colab": {
          "base_uri": "https://localhost:8080/"
        },
        "id": "pMtYS3OsSBBv",
        "outputId": "c7c02790-787c-4725-c111-359d1f1c41d5"
      },
      "execution_count": 19,
      "outputs": [
        {
          "output_type": "stream",
          "name": "stdout",
          "text": [
            "बरी\n",
            "आहे\n"
          ]
        }
      ]
    },
    {
      "cell_type": "markdown",
      "source": [
        "POS tagger for Hindi(हिंदी)\n",
        "\n",
        "```\n",
        "# This is formatted as code\n",
        "```\n",
        "\n"
      ],
      "metadata": {
        "id": "ELbE8YLMY_nJ"
      }
    },
    {
      "cell_type": "code",
      "source": [
        "text=\"क्या सोच रहे हो?\""
      ],
      "metadata": {
        "id": "gaBKhcAhSnli"
      },
      "execution_count": 20,
      "outputs": []
    },
    {
      "cell_type": "code",
      "source": [
        "result=word_tokenize(text)"
      ],
      "metadata": {
        "id": "7vA6mT0FVHF1"
      },
      "execution_count": 21,
      "outputs": []
    },
    {
      "cell_type": "code",
      "source": [
        "result"
      ],
      "metadata": {
        "colab": {
          "base_uri": "https://localhost:8080/"
        },
        "id": "HK15NEbLVKTN",
        "outputId": "5d0cd393-68f1-4501-fa72-d81452c01ba3"
      },
      "execution_count": 22,
      "outputs": [
        {
          "output_type": "execute_result",
          "data": {
            "text/plain": [
              "['क्या', 'सोच', 'रहे', 'हो', '?']"
            ]
          },
          "metadata": {},
          "execution_count": 22
        }
      ]
    },
    {
      "cell_type": "code",
      "source": [
        "final=nltk.pos_tag(result)"
      ],
      "metadata": {
        "id": "uEWWP3A7VMh9"
      },
      "execution_count": 23,
      "outputs": []
    },
    {
      "cell_type": "code",
      "source": [
        "final"
      ],
      "metadata": {
        "colab": {
          "base_uri": "https://localhost:8080/"
        },
        "id": "z7GQQQRNVQBj",
        "outputId": "0349a417-6f47-4d5f-fefd-35bde027c84d"
      },
      "execution_count": 24,
      "outputs": [
        {
          "output_type": "execute_result",
          "data": {
            "text/plain": [
              "[('क्या', 'JJ'), ('सोच', 'NNP'), ('रहे', 'NNP'), ('हो', 'NNP'), ('?', '.')]"
            ]
          },
          "metadata": {},
          "execution_count": 24
        }
      ]
    },
    {
      "cell_type": "code",
      "source": [
        "nltk.help.upenn_tagset('NNP')"
      ],
      "metadata": {
        "colab": {
          "base_uri": "https://localhost:8080/"
        },
        "id": "cQ5aMF6OVTcx",
        "outputId": "c8481205-4d34-429a-c4ee-da090b7ddd0a"
      },
      "execution_count": 25,
      "outputs": [
        {
          "output_type": "stream",
          "name": "stdout",
          "text": [
            "NNP: noun, proper, singular\n",
            "    Motown Venneboerger Czestochwa Ranzer Conchita Trumplane Christos\n",
            "    Oceanside Escobar Kreisler Sawyer Cougar Yvette Ervin ODI Darryl CTCA\n",
            "    Shannon A.K.C. Meltex Liverpool ...\n"
          ]
        }
      ]
    },
    {
      "cell_type": "code",
      "source": [
        "for i in range(0,len(final)):\n",
        "  if(final[i][1]=='NNP'):\n",
        "    print(final[i][0])"
      ],
      "metadata": {
        "colab": {
          "base_uri": "https://localhost:8080/"
        },
        "id": "xGVKG2TEVYk7",
        "outputId": "b9a42f06-dda5-4dc0-bbd0-4c71d0e69676"
      },
      "execution_count": 26,
      "outputs": [
        {
          "output_type": "stream",
          "name": "stdout",
          "text": [
            "सोच\n",
            "रहे\n",
            "हो\n"
          ]
        }
      ]
    },
    {
      "cell_type": "markdown",
      "source": [
        "POS tagger for Sanskrit(संस्कृत)"
      ],
      "metadata": {
        "id": "KriDTdp_ZLxt"
      }
    },
    {
      "cell_type": "code",
      "source": [
        "text=\"रामः सीतां पश्यति।\""
      ],
      "metadata": {
        "id": "HrVHy6L5VbJ0"
      },
      "execution_count": 27,
      "outputs": []
    },
    {
      "cell_type": "code",
      "source": [
        "result=word_tokenize(text)"
      ],
      "metadata": {
        "id": "ba9SY7JOVx67"
      },
      "execution_count": 28,
      "outputs": []
    },
    {
      "cell_type": "code",
      "source": [
        "result"
      ],
      "metadata": {
        "colab": {
          "base_uri": "https://localhost:8080/"
        },
        "id": "9uZZBrhRV0wz",
        "outputId": "f201672b-71c5-4da5-c013-6b659c797221"
      },
      "execution_count": 29,
      "outputs": [
        {
          "output_type": "execute_result",
          "data": {
            "text/plain": [
              "['रामः', 'सीतां', 'पश्यति।']"
            ]
          },
          "metadata": {},
          "execution_count": 29
        }
      ]
    },
    {
      "cell_type": "code",
      "source": [
        "final=nltk.pos_tag(result)"
      ],
      "metadata": {
        "id": "W4mSEahEV2_e"
      },
      "execution_count": 30,
      "outputs": []
    },
    {
      "cell_type": "code",
      "source": [
        "final"
      ],
      "metadata": {
        "colab": {
          "base_uri": "https://localhost:8080/"
        },
        "id": "x7WFZy5kV5vE",
        "outputId": "97c3b4dd-bc8e-422a-d6ed-156906589d5f"
      },
      "execution_count": 31,
      "outputs": [
        {
          "output_type": "execute_result",
          "data": {
            "text/plain": [
              "[('रामः', 'JJ'), ('सीतां', 'NNP'), ('पश्यति।', 'NN')]"
            ]
          },
          "metadata": {},
          "execution_count": 31
        }
      ]
    },
    {
      "cell_type": "code",
      "source": [
        "nltk.help.upenn_tagset('NN')"
      ],
      "metadata": {
        "colab": {
          "base_uri": "https://localhost:8080/"
        },
        "id": "21p68bzmV79W",
        "outputId": "27f867af-b37d-404a-bb7e-0494b36a1132"
      },
      "execution_count": 32,
      "outputs": [
        {
          "output_type": "stream",
          "name": "stdout",
          "text": [
            "NN: noun, common, singular or mass\n",
            "    common-carrier cabbage knuckle-duster Casino afghan shed thermostat\n",
            "    investment slide humour falloff slick wind hyena override subhumanity\n",
            "    machinist ...\n"
          ]
        }
      ]
    },
    {
      "cell_type": "code",
      "source": [
        "for i in range(0,len(final)):\n",
        "  if(final[i][1]=='NNP'):\n",
        "    print(final[i][0])"
      ],
      "metadata": {
        "colab": {
          "base_uri": "https://localhost:8080/"
        },
        "id": "jMnY5IXxV-vh",
        "outputId": "8c8013b9-9e15-4f28-f163-14a966114d63"
      },
      "execution_count": 33,
      "outputs": [
        {
          "output_type": "stream",
          "name": "stdout",
          "text": [
            "सीतां\n"
          ]
        }
      ]
    },
    {
      "cell_type": "markdown",
      "source": [
        "**POS Tagger For Telugu**"
      ],
      "metadata": {
        "id": "e-PystaDECp4"
      }
    },
    {
      "cell_type": "code",
      "source": [
        "text=\"తెలుగు భాషతో ఏం బాగుంటుంది\"\n",
        "#What is good with Telugu language"
      ],
      "metadata": {
        "id": "6VQeKUgkWBBD"
      },
      "execution_count": 47,
      "outputs": []
    },
    {
      "cell_type": "code",
      "source": [
        "result=word_tokenize(text)"
      ],
      "metadata": {
        "id": "_FqQ5Ua1B3rX"
      },
      "execution_count": 41,
      "outputs": []
    },
    {
      "cell_type": "code",
      "source": [
        "result"
      ],
      "metadata": {
        "colab": {
          "base_uri": "https://localhost:8080/"
        },
        "id": "NHUTXf4wCAD3",
        "outputId": "26b32c3a-c215-4bab-cb8d-db0cca218835"
      },
      "execution_count": 42,
      "outputs": [
        {
          "output_type": "execute_result",
          "data": {
            "text/plain": [
              "['తెలుగు', 'భాషతో', 'ఏం', 'బాగుంటుంది']"
            ]
          },
          "metadata": {},
          "execution_count": 42
        }
      ]
    },
    {
      "cell_type": "code",
      "source": [
        "final=nltk.pos_tag(result)"
      ],
      "metadata": {
        "id": "0mtwwbkLC8t_"
      },
      "execution_count": 43,
      "outputs": []
    },
    {
      "cell_type": "code",
      "source": [
        "final"
      ],
      "metadata": {
        "colab": {
          "base_uri": "https://localhost:8080/"
        },
        "id": "wEwiUO1jDAIi",
        "outputId": "265312cf-e83c-495e-83d6-ab131ab45bc5"
      },
      "execution_count": 44,
      "outputs": [
        {
          "output_type": "execute_result",
          "data": {
            "text/plain": [
              "[('తెలుగు', 'JJ'), ('భాషతో', 'NNP'), ('ఏం', 'NNP'), ('బాగుంటుంది', 'NN')]"
            ]
          },
          "metadata": {},
          "execution_count": 44
        }
      ]
    },
    {
      "cell_type": "code",
      "source": [
        "nltk.help.upenn_tagset('NN')"
      ],
      "metadata": {
        "colab": {
          "base_uri": "https://localhost:8080/"
        },
        "id": "u4zVwQ2LDCWw",
        "outputId": "c39c3142-05f1-431b-df1c-9e66dd3b759c"
      },
      "execution_count": 45,
      "outputs": [
        {
          "output_type": "stream",
          "name": "stdout",
          "text": [
            "NN: noun, common, singular or mass\n",
            "    common-carrier cabbage knuckle-duster Casino afghan shed thermostat\n",
            "    investment slide humour falloff slick wind hyena override subhumanity\n",
            "    machinist ...\n"
          ]
        }
      ]
    },
    {
      "cell_type": "code",
      "source": [
        "for i in range(0,len(final)):\n",
        "  if(final[i][1]=='NNP'):\n",
        "    print(final[i][0])"
      ],
      "metadata": {
        "colab": {
          "base_uri": "https://localhost:8080/"
        },
        "id": "NFwmyQKdDEsA",
        "outputId": "e77c23b7-792c-4158-fb8f-e47da0aec95d"
      },
      "execution_count": 46,
      "outputs": [
        {
          "output_type": "stream",
          "name": "stdout",
          "text": [
            "భాషతో\n",
            "ఏం\n"
          ]
        }
      ]
    },
    {
      "cell_type": "code",
      "source": [],
      "metadata": {
        "id": "YQ6SzOFpDqCR"
      },
      "execution_count": null,
      "outputs": []
    }
  ]
}